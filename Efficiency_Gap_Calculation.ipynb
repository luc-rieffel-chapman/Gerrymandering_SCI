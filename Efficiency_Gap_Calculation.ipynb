{
 "cells": [
  {
   "cell_type": "code",
   "execution_count": 21,
   "id": "e59fbde1",
   "metadata": {},
   "outputs": [],
   "source": [
    "import pandas as pd\n",
    "df = pd.read_csv(\"wisconsin.csv\")\n",
    "#import our wisconsin dataset from politico.com"
   ]
  },
  {
   "cell_type": "code",
   "execution_count": 22,
   "id": "984cdffa",
   "metadata": {
    "scrolled": true
   },
   "outputs": [
    {
     "name": "stdout",
     "output_type": "stream",
     "text": [
      "            COUNTY  BIDEN_VOTES BIDEN PCT  TRUMP_VOTES TRUMP PCT  TOTAL_VOTES  \\\n",
      "0     Adams County         4329    36.70%         7362    62.40%        11691   \n",
      "1   Ashland County         4801    55.00%         3841    44.00%         8642   \n",
      "2    Barron County         9194    36.30%        15803    62.40%        24997   \n",
      "3  Bayfield County         6147    56.60%         4617    42.50%        10764   \n",
      "4     Brown County        65511    45.60%        75871    52.80%       141382   \n",
      "\n",
      "   Votes_needed  Trump_wasted  Biden_wasted  \n",
      "0          5846           NaN           NaN  \n",
      "1          4321           NaN           NaN  \n",
      "2         12499           NaN           NaN  \n",
      "3          5382           NaN           NaN  \n",
      "4         70691           NaN           NaN  \n"
     ]
    }
   ],
   "source": [
    "print(df.head())"
   ]
  },
  {
   "cell_type": "code",
   "execution_count": 23,
   "id": "a015c374",
   "metadata": {},
   "outputs": [
    {
     "name": "stdout",
     "output_type": "stream",
     "text": [
      "Index(['COUNTY', 'BIDEN_VOTES', 'BIDEN PCT', 'TRUMP_VOTES', 'TRUMP PCT',\n",
      "       'TOTAL_VOTES', 'Votes_needed', 'Trump_wasted', 'Biden_wasted'],\n",
      "      dtype='object')\n"
     ]
    }
   ],
   "source": [
    "print(df.columns)"
   ]
  },
  {
   "cell_type": "code",
   "execution_count": 24,
   "id": "cda745d6",
   "metadata": {},
   "outputs": [],
   "source": [
    "#convert all datapoints to integers because the dataframe holds them as strings\n",
    "for i in df.BIDEN_VOTES:\n",
    "    i = int(i)\n",
    "    \n",
    "for i in df.TRUMP_VOTES:\n",
    "    i = int(i)\n",
    "    \n",
    "for i in df.TOTAL_VOTES:\n",
    "    i = int(i)\n",
    "    \n",
    "for i in df.Votes_needed:\n",
    "    i = int(i)"
   ]
  },
  {
   "cell_type": "markdown",
   "id": "f4c10494",
   "metadata": {},
   "source": [
    "## Here is how we calculate Joe Biden's wasted votes based on the criteria defined by our research"
   ]
  },
  {
   "cell_type": "code",
   "execution_count": 25,
   "id": "8645c5cc",
   "metadata": {
    "scrolled": true
   },
   "outputs": [
    {
     "name": "stderr",
     "output_type": "stream",
     "text": [
      "/Users/lucrieffel/opt/anaconda3/lib/python3.7/site-packages/ipykernel_launcher.py:7: SettingWithCopyWarning: \n",
      "A value is trying to be set on a copy of a slice from a DataFrame\n",
      "\n",
      "See the caveats in the documentation: https://pandas.pydata.org/pandas-docs/stable/user_guide/indexing.html#returning-a-view-versus-a-copy\n",
      "  import sys\n",
      "/Users/lucrieffel/opt/anaconda3/lib/python3.7/site-packages/ipykernel_launcher.py:5: SettingWithCopyWarning: \n",
      "A value is trying to be set on a copy of a slice from a DataFrame\n",
      "\n",
      "See the caveats in the documentation: https://pandas.pydata.org/pandas-docs/stable/user_guide/indexing.html#returning-a-view-versus-a-copy\n",
      "  \"\"\"\n"
     ]
    }
   ],
   "source": [
    "for i in range(len(df.BIDEN_VOTES)): \n",
    "    if df.BIDEN_VOTES[i] > df.Votes_needed[i]: \n",
    "        df.Biden_wasted[i] = df.BIDEN_VOTES[i] - df.Votes_needed[i]\n",
    "    elif df.BIDEN_VOTES[i] < df.Votes_needed[i]: \n",
    "        df.Biden_wasted[i] = df.BIDEN_VOTES[i]\n",
    "#calculate bidens wasted votes"
   ]
  },
  {
   "cell_type": "code",
   "execution_count": 34,
   "id": "de0773f4",
   "metadata": {},
   "outputs": [],
   "source": [
    "#https://www.brennancenter.org/sites/default/files/legal-work/How_the_Efficiency_Gap_Standard_Works.pdf\n",
    "#calculating all of Biden's wasted votes based on the criteria of a wasted vote"
   ]
  },
  {
   "cell_type": "code",
   "execution_count": 26,
   "id": "ec42819d",
   "metadata": {},
   "outputs": [
    {
     "name": "stderr",
     "output_type": "stream",
     "text": [
      "/Users/lucrieffel/opt/anaconda3/lib/python3.7/site-packages/ipykernel_launcher.py:3: SettingWithCopyWarning: \n",
      "A value is trying to be set on a copy of a slice from a DataFrame\n",
      "\n",
      "See the caveats in the documentation: https://pandas.pydata.org/pandas-docs/stable/user_guide/indexing.html#returning-a-view-versus-a-copy\n",
      "  This is separate from the ipykernel package so we can avoid doing imports until\n",
      "/Users/lucrieffel/opt/anaconda3/lib/python3.7/site-packages/ipykernel_launcher.py:5: SettingWithCopyWarning: \n",
      "A value is trying to be set on a copy of a slice from a DataFrame\n",
      "\n",
      "See the caveats in the documentation: https://pandas.pydata.org/pandas-docs/stable/user_guide/indexing.html#returning-a-view-versus-a-copy\n",
      "  \"\"\"\n"
     ]
    }
   ],
   "source": [
    "#calculating trumps wasted votes 2016 election in wisconsin\n",
    "for i in range(len(df.TRUMP_VOTES)):\n",
    "    if df.TRUMP_VOTES[i] > df.Votes_needed[i]:\n",
    "        df.Trump_wasted[i] = df.TRUMP_VOTES[i] - df.Votes_needed[i]\n",
    "    elif df.TRUMP_VOTES[i] < df.Votes_needed[i]:\n",
    "        df.Trump_wasted[i] = df.TRUMP_VOTES[i]"
   ]
  },
  {
   "cell_type": "code",
   "execution_count": 27,
   "id": "d1fa9dab",
   "metadata": {},
   "outputs": [
    {
     "name": "stdout",
     "output_type": "stream",
     "text": [
      "0      4329.0\n",
      "1       480.0\n",
      "2      9194.0\n",
      "3       765.0\n",
      "4     65511.0\n",
      "       ...   \n",
      "67     9703.0\n",
      "68     4388.0\n",
      "69    44060.0\n",
      "70    16365.0\n",
      "71     6261.0\n",
      "Name: Biden_wasted, Length: 72, dtype: float64\n"
     ]
    }
   ],
   "source": [
    "#print our results to confirm accuracy\n",
    "print(df.Biden_wasted)"
   ]
  },
  {
   "cell_type": "code",
   "execution_count": 28,
   "id": "57af8b8a",
   "metadata": {},
   "outputs": [
    {
     "name": "stdout",
     "output_type": "stream",
     "text": [
      "0     1516.0\n",
      "1     3841.0\n",
      "2     3304.0\n",
      "3     4617.0\n",
      "4     5180.0\n",
      "       ...  \n",
      "67    4624.0\n",
      "68    2314.0\n",
      "69    1868.0\n",
      "70    3971.0\n",
      "71    1878.0\n",
      "Name: Trump_wasted, Length: 72, dtype: float64\n"
     ]
    }
   ],
   "source": [
    "print(df.Trump_wasted)\n",
    "#print our results to confirm accuracy"
   ]
  },
  {
   "cell_type": "code",
   "execution_count": 29,
   "id": "f81a608b",
   "metadata": {},
   "outputs": [
    {
     "name": "stdout",
     "output_type": "stream",
     "text": [
      "3241050\n"
     ]
    }
   ],
   "source": [
    "total_votes = df.BIDEN_VOTES.sum() + df.TRUMP_VOTES.sum()\n",
    "print(total_votes)\n",
    "#calculate the sum of all votes"
   ]
  },
  {
   "cell_type": "code",
   "execution_count": 30,
   "id": "7db97c47",
   "metadata": {},
   "outputs": [],
   "source": [
    "#create a dataframe to hold trump and bidens wasted votes\n",
    "wasted_votes = df[['Trump_wasted', 'Biden_wasted']]"
   ]
  },
  {
   "cell_type": "code",
   "execution_count": 31,
   "id": "b46b86c0",
   "metadata": {},
   "outputs": [
    {
     "name": "stdout",
     "output_type": "stream",
     "text": [
      "576257.0\n"
     ]
    }
   ],
   "source": [
    "sum_trump = df.Trump_wasted.sum()\n",
    "print(sum_trump)\n",
    "#trump wasted vote sum"
   ]
  },
  {
   "cell_type": "code",
   "execution_count": 32,
   "id": "82946d5f",
   "metadata": {},
   "outputs": [
    {
     "name": "stdout",
     "output_type": "stream",
     "text": [
      "1044252.0\n"
     ]
    }
   ],
   "source": [
    "sum_biden = df.Biden_wasted.sum()\n",
    "print(sum_biden)\n",
    "#biden wasted vote sum"
   ]
  },
  {
   "cell_type": "code",
   "execution_count": 33,
   "id": "45788011",
   "metadata": {},
   "outputs": [
    {
     "name": "stdout",
     "output_type": "stream",
     "text": [
      "0.1443961062001512\n"
     ]
    }
   ],
   "source": [
    "#from our research we know that the efficiency gap is calculating by subtracting \n",
    "efficiency_gap = (sum_biden - sum_trump)/total_votes\n",
    "print(efficiency_gap)\n",
    "#the efficiency gap is very high 7% is considered a high efficiency gap and our result is over 2 times that!\n",
    "#it is likely that wisconsin was gerrymandered."
   ]
  },
  {
   "cell_type": "code",
   "execution_count": 40,
   "id": "9d0b14f2",
   "metadata": {},
   "outputs": [
    {
     "name": "stdout",
     "output_type": "stream",
     "text": [
      "            COUNTY  BIDEN_VOTES BIDEN PCT  TRUMP_VOTES TRUMP PCT  TOTAL_VOTES  \\\n",
      "0     Adams County         4329    36.70%         7362    62.40%        11691   \n",
      "1   Ashland County         4801    55.00%         3841    44.00%         8642   \n",
      "2    Barron County         9194    36.30%        15803    62.40%        24997   \n",
      "3  Bayfield County         6147    56.60%         4617    42.50%        10764   \n",
      "4     Brown County        65511    45.60%        75871    52.80%       141382   \n",
      "\n",
      "   Votes_needed  Trump_wasted  Biden_wasted  \n",
      "0          5846        1516.0        4329.0  \n",
      "1          4321        3841.0         480.0  \n",
      "2         12499        3304.0        9194.0  \n",
      "3          5382        4617.0         765.0  \n",
      "4         70691        5180.0       65511.0  \n"
     ]
    }
   ],
   "source": [
    "print(df.head())\n",
    "#our modified dataframe showing all wasted votes and votes needed"
   ]
  }
 ],
 "metadata": {
  "kernelspec": {
   "display_name": "Python 3",
   "language": "python",
   "name": "python3"
  },
  "language_info": {
   "codemirror_mode": {
    "name": "ipython",
    "version": 3
   },
   "file_extension": ".py",
   "mimetype": "text/x-python",
   "name": "python",
   "nbconvert_exporter": "python",
   "pygments_lexer": "ipython3",
   "version": "3.7.6"
  }
 },
 "nbformat": 4,
 "nbformat_minor": 5
}
